{
  "nbformat": 4,
  "nbformat_minor": 0,
  "metadata": {
    "colab": {
      "name": "classify_pokemon.ipynb",
      "provenance": [],
      "collapsed_sections": [],
      "authorship_tag": "ABX9TyOBppWzaXFXghcYt3jZPzg8",
      "include_colab_link": true
    },
    "kernelspec": {
      "name": "python3",
      "display_name": "Python 3"
    },
    "language_info": {
      "name": "python"
    }
  },
  "cells": [
    {
      "cell_type": "markdown",
      "metadata": {
        "id": "view-in-github",
        "colab_type": "text"
      },
      "source": [
        "<a href=\"https://colab.research.google.com/github/naka-c1024/classify_pokemon/blob/main/classify_pokemon.ipynb\" target=\"_parent\"><img src=\"https://colab.research.google.com/assets/colab-badge.svg\" alt=\"Open In Colab\"/></a>"
      ]
    },
    {
      "cell_type": "code",
      "source": [
        "from google.colab import drive\n",
        "drive.mount('/content/drive')"
      ],
      "metadata": {
        "id": "8WhRvQRnZ-07"
      },
      "execution_count": null,
      "outputs": []
    },
    {
      "cell_type": "code",
      "execution_count": null,
      "metadata": {
        "id": "is34J5Bk8SAT"
      },
      "outputs": [],
      "source": [
        "from keras.models import Sequential\n",
        "from keras.layers import Activation, Dense\n",
        "from keras.layers.convolutional import Conv2D, MaxPooling2D\n",
        "from keras.layers import Flatten\n",
        "from tensorflow.keras.preprocessing.image import ImageDataGenerator\n",
        "\n",
        "\n",
        "model = Sequential()\n",
        "model.add(Conv2D(64, (3, 3), input_shape=(64, 64, 3)))\n",
        "model.add(Activation(\"relu\"))\n",
        "model.add(MaxPooling2D(pool_size=(2, 2)))\n",
        "model.add(Conv2D(64, (3, 3)))\n",
        "model.add(Activation(\"relu\"))\n",
        "model.add(MaxPooling2D(pool_size=(2, 2)))\n",
        "model.add(Flatten())\n",
        "model.add(Dense(256))\n",
        "model.add(Activation(\"relu\"))\n",
        "model.add(Dense(2))\n",
        "model.add(Activation(\"softmax\"))\n",
        "# model.summary()"
      ]
    },
    {
      "cell_type": "code",
      "source": [
        "model.compile(\n",
        "    optimizer=\"adam\",  # SGD\n",
        "    loss=\"categorical_crossentropy\",  # sparse_categorical_crossentropy\n",
        "    metrics=[\"accuracy\"])"
      ],
      "metadata": {
        "id": "IA53xbIx9Cfi"
      },
      "execution_count": null,
      "outputs": []
    },
    {
      "cell_type": "code",
      "source": [
        "train_datagen = ImageDataGenerator(rescale=1./255)\n",
        "test_datagen = ImageDataGenerator(rescale=1./255)\n",
        "train_generator = train_datagen.flow_from_directory(\n",
        "    \"/content/drive/MyDrive/pokemon_data/train\",\n",
        "    target_size=(64, 64),\n",
        "    batch_size=10)\n",
        "validation_generator = test_datagen.flow_from_directory(\n",
        "    \"/content/drive/MyDrive/pokemon_data/validation\",\n",
        "    target_size=(64, 64),\n",
        "    batch_size=10)\n",
        "model.fit(\n",
        "    train_generator,\n",
        "    epochs=10,\n",
        "    steps_per_epoch=8)\n",
        "model.save(\"/content/drive/MyDrive/model.h5\")"
      ],
      "metadata": {
        "id": "k186yAqB9IFk"
      },
      "execution_count": null,
      "outputs": []
    },
    {
      "cell_type": "code",
      "source": [
        "# import os\n",
        "# dir = os.listdir(\"/content/drive/MyDrive/pokemon_data/validation\")\n",
        "# print(dir)\n",
        "# file_path = (\"/content/drive/MyDrive/pokemon_data/validation/.ipynb_checkpoints\")\n",
        "# os.rmdir(file_path)\n",
        "# dir = os.listdir(\"/content/drive/MyDrive/pokemon_data/validation\")\n",
        "# print(dir)"
      ],
      "metadata": {
        "id": "7HlAqipBk3UF"
      },
      "execution_count": null,
      "outputs": []
    },
    {
      "cell_type": "code",
      "source": [
        "from google.colab.patches import cv2_imshow\n",
        "from keras.preprocessing import image\n",
        "import numpy as np\n",
        "from keras.models import load_model\n",
        "from IPython.display import Image,display_jpeg\n",
        "\n",
        "name = input(\"画像のpathを入力してください :\")\n",
        "display_jpeg(Image(name))\n",
        "image = image.load_img(name, target_size=(64, 64))\n",
        "image = np.array(image)\n",
        "print(\"リサイズ後の画像\")\n",
        "cv2_imshow(image)\n",
        "model = load_model(\"/content/drive/MyDrive/model.h5\")\n",
        "np_image = np.array(image)\n",
        "np_image = np_image / 255\n",
        "np_image = np_image[np.newaxis, :, :, :]\n",
        "result = model(np_image)\n",
        "if result[0][0] > result[0][1]:\n",
        "    print(\"ピチュー\")\n",
        "else:\n",
        "    print(\"ピカチュー\")"
      ],
      "metadata": {
        "id": "qUIK1UI3I2A1"
      },
      "execution_count": null,
      "outputs": []
    }
  ]
}