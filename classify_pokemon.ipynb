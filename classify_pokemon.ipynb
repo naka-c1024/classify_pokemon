{
  "nbformat": 4,
  "nbformat_minor": 0,
  "metadata": {
    "colab": {
      "name": "classify_pokemon.ipynb",
      "provenance": [],
      "authorship_tag": "ABX9TyMVawwk/qj8m4DOT0OF1McU",
      "include_colab_link": true
    },
    "kernelspec": {
      "name": "python3",
      "display_name": "Python 3"
    },
    "language_info": {
      "name": "python"
    }
  },
  "cells": [
    {
      "cell_type": "markdown",
      "metadata": {
        "id": "view-in-github",
        "colab_type": "text"
      },
      "source": [
        "<a href=\"https://colab.research.google.com/github/naka-c1024/classify_pokemon/blob/main/classify_pokemon.ipynb\" target=\"_parent\"><img src=\"https://colab.research.google.com/assets/colab-badge.svg\" alt=\"Open In Colab\"/></a>"
      ]
    },
    {
      "cell_type": "code",
      "source": [
        "from google.colab import drive\n",
        "drive.mount('/content/drive')"
      ],
      "metadata": {
        "colab": {
          "base_uri": "https://localhost:8080/"
        },
        "id": "8WhRvQRnZ-07",
        "outputId": "95b99264-cf77-4adb-c441-31302b2eac92"
      },
      "execution_count": 1,
      "outputs": [
        {
          "output_type": "stream",
          "name": "stdout",
          "text": [
            "Mounted at /content/drive\n"
          ]
        }
      ]
    },
    {
      "cell_type": "code",
      "source": [
        "!pip install pillow"
      ],
      "metadata": {
        "colab": {
          "base_uri": "https://localhost:8080/"
        },
        "id": "MMTfMXvQiZyZ",
        "outputId": "1d15cec8-5419-40a7-f7c6-323acb0403d5"
      },
      "execution_count": null,
      "outputs": [
        {
          "output_type": "stream",
          "name": "stdout",
          "text": [
            "Requirement already satisfied: pillow in /usr/local/lib/python3.7/dist-packages (7.1.2)\n"
          ]
        }
      ]
    },
    {
      "cell_type": "code",
      "source": [
        "import os\n",
        "dir = os.listdir(\"/content/drive/MyDrive/pokemon_data/validation\")\n",
        "print(dir)\n",
        "file_path = (\"/content/drive/MyDrive/pokemon_data/validation/.ipynb_checkpoints\")\n",
        "os.rmdir(file_path)\n",
        "dir = os.listdir(\"/content/drive/MyDrive/pokemon_data/validation\")\n",
        "print(dir)"
      ],
      "metadata": {
        "colab": {
          "base_uri": "https://localhost:8080/"
        },
        "id": "7HlAqipBk3UF",
        "outputId": "2ec5bdff-46ec-4ada-8053-8aca979d6af2"
      },
      "execution_count": null,
      "outputs": [
        {
          "output_type": "stream",
          "name": "stdout",
          "text": [
            "['pikachu', '.ipynb_checkpoints', 'pichu']\n",
            "['pikachu', 'pichu']\n"
          ]
        }
      ]
    },
    {
      "cell_type": "code",
      "execution_count": 2,
      "metadata": {
        "colab": {
          "base_uri": "https://localhost:8080/"
        },
        "id": "is34J5Bk8SAT",
        "outputId": "ddd38456-e62e-4ca6-f20d-7f0475d765dd"
      },
      "outputs": [
        {
          "output_type": "stream",
          "name": "stdout",
          "text": [
            "Found 80 images belonging to 2 classes.\n",
            "Found 20 images belonging to 2 classes.\n",
            "Epoch 1/10\n",
            "8/8 [==============================] - 22s 3s/step - loss: 1.3784 - accuracy: 0.5500\n",
            "Epoch 2/10\n",
            "8/8 [==============================] - 1s 125ms/step - loss: 0.6581 - accuracy: 0.6125\n",
            "Epoch 3/10\n",
            "8/8 [==============================] - 1s 124ms/step - loss: 0.5919 - accuracy: 0.7375\n",
            "Epoch 4/10\n",
            "8/8 [==============================] - 1s 126ms/step - loss: 0.3835 - accuracy: 0.8375\n",
            "Epoch 5/10\n",
            "8/8 [==============================] - 1s 125ms/step - loss: 0.3961 - accuracy: 0.8500\n",
            "Epoch 6/10\n",
            "8/8 [==============================] - 1s 123ms/step - loss: 0.2679 - accuracy: 0.8750\n",
            "Epoch 7/10\n",
            "8/8 [==============================] - 1s 123ms/step - loss: 0.1766 - accuracy: 0.9375\n",
            "Epoch 8/10\n",
            "8/8 [==============================] - 1s 123ms/step - loss: 0.0902 - accuracy: 0.9750\n",
            "Epoch 9/10\n",
            "8/8 [==============================] - 1s 126ms/step - loss: 0.1288 - accuracy: 0.9500\n",
            "Epoch 10/10\n",
            "8/8 [==============================] - 1s 128ms/step - loss: 0.0430 - accuracy: 0.9875\n",
            "Finish\n"
          ]
        }
      ],
      "source": [
        "from keras.models import Sequential\n",
        "from keras.layers import Activation, Dense\n",
        "from keras.layers.convolutional import Conv2D, MaxPooling2D\n",
        "from keras.layers import Flatten\n",
        "from tensorflow.keras.preprocessing.image import ImageDataGenerator\n",
        "\n",
        "\n",
        "model = Sequential()\n",
        "model.add(Conv2D(64, (3, 3), input_shape=(64, 64, 3)))\n",
        "model.add(Activation(\"relu\"))\n",
        "model.add(MaxPooling2D(pool_size=(2, 2)))\n",
        "model.add(Conv2D(64, (3, 3)))\n",
        "model.add(Activation(\"relu\"))\n",
        "model.add(MaxPooling2D(pool_size=(2, 2)))\n",
        "model.add(Flatten())\n",
        "model.add(Dense(256))\n",
        "model.add(Activation(\"relu\"))\n",
        "model.add(Dense(2))\n",
        "model.add(Activation(\"softmax\"))\n",
        "# model.summary()\n",
        "model.compile(\n",
        "    optimizer=\"adam\",\n",
        "    loss=\"categorical_crossentropy\",\n",
        "    metrics=[\"accuracy\"])\n",
        "train_datagen = ImageDataGenerator(rescale=1./255)\n",
        "test_datagen = ImageDataGenerator(rescale=1./255)\n",
        "train_generator = train_datagen.flow_from_directory(\n",
        "    \"/content/drive/MyDrive/pokemon_data/train\",\n",
        "    target_size=(64, 64),\n",
        "    batch_size=10)\n",
        "validation_generator = test_datagen.flow_from_directory(\n",
        "    \"/content/drive/MyDrive/pokemon_data/validation\",\n",
        "    target_size=(64, 64),\n",
        "    batch_size=10)\n",
        "model.fit(\n",
        "    train_generator,\n",
        "    epochs=10,\n",
        "    steps_per_epoch=8)\n",
        "model.save(\"/content/drive/MyDrive/model.h5\")\n",
        "print(\"Finish\")\n"
      ]
    },
    {
      "cell_type": "code",
      "source": [
        "from google.colab.patches import cv2_imshow\n",
        "from keras.preprocessing import image\n",
        "import numpy as np\n",
        "from keras.models import load_model\n",
        "from IPython.display import Image,display_jpeg\n",
        "\n",
        "name = input(\"画像のpathを入力してください :\")\n",
        "display_jpeg(Image(name))\n",
        "image = image.load_img(name, target_size=(64, 64))\n",
        "image = np.array(image)\n",
        "print(\"リサイズ後の画像\")\n",
        "cv2_imshow(image)\n",
        "model = load_model(\"/content/drive/MyDrive/model.h5\")\n",
        "np_image = np.array(image)\n",
        "np_image = np_image / 255\n",
        "np_image = np_image[np.newaxis, :, :, :]\n",
        "result = model(np_image)\n",
        "if result[0][0] > result[0][1]:\n",
        "    print(\"ピチュー\")\n",
        "else:\n",
        "    print(\"ピカチュー\")"
      ],
      "metadata": {
        "colab": {
          "base_uri": "https://localhost:8080/",
          "height": 233
        },
        "id": "qUIK1UI3I2A1",
        "outputId": "c4c24969-e66d-4f5c-c61a-3c2c7e51f920"
      },
      "execution_count": 18,
      "outputs": [
        {
          "name": "stdout",
          "output_type": "stream",
          "text": [
            "画像のpathを入力してください :/content/drive/MyDrive/pokemon_data/validation/pikachu/ダウンロード (3).jpeg\n"
          ]
        },
        {
          "output_type": "display_data",
          "data": {
            "image/jpeg": "[encoded data removed]"
          },
          "metadata": {}
        },
        {
          "output_type": "stream",
          "name": "stdout",
          "text": [
            "リサイズ後の画像\n"
          ]
        },
        {
          "output_type": "display_data",
          "data": {
            "image/png": "[encoded data removed]",
            "text/plain": [
              "<PIL.Image.Image image mode=RGB size=64x64 at 0x7F92AB838A10>"
            ]
          },
          "metadata": {}
        },
        {
          "output_type": "stream",
          "name": "stdout",
          "text": [
            "ピカチュー\n"
          ]
        }
      ]
    }
  ]
}